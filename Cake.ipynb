{
 "cells": [
  {
   "cell_type": "markdown",
   "metadata": {},
   "source": [
    "# מתכון לעוגיות שוקולד למכורים בלבד"
   ]
  },
  {
   "cell_type": "code",
   "execution_count": null,
   "metadata": {
    "collapsed": true
   },
   "outputs": [],
   "source": [
    "https://addapinch.com/the-best-chocolate-cake-recipe-ever/"
   ]
  },
  {
   "cell_type": "markdown",
   "metadata": {},
   "source": [
    "## Ingredients"
   ]
  },
  {
   "cell_type": "markdown",
   "metadata": {},
   "source": [
    "    * 2 cups all-purpose flour\n",
    "    * 2 cups sugar\n",
    "    * ¾ cup unsweetened cocoa powder\n",
    "    * 2 teaspoons baking powder\n",
    "    * 1½ teaspoons baking soda\n",
    "    * 1 teaspoon salt\n",
    "    * 1 teaspoon espresso powder\n",
    "    * 1 cup milk, buttermilk, almond, or coconut milk\n",
    "    * ½ cup vegetable, canola oil, or melted coconut oil\n",
    "    * 2 large eggs\n",
    "    * 2 teaspoons vanilla extract\n",
    "    * 1 cup boiling water\n",
    "    * Chocolate Buttercream Frosting Recipe"
   ]
  },
  {
   "cell_type": "markdown",
   "metadata": {},
   "source": [
    "## Instructions"
   ]
  },
  {
   "cell_type": "markdown",
   "metadata": {},
   "source": [
    "1. Preheat oven to 350º F. Prepare two 9-inch cake pans by spraying with baking spray or buttering and lightly flouring.\n",
    "For the chocolate cake:\n",
    "2. Add flour, sugar, cocoa, baking powder, baking soda, salt and espresso powder to a large bowl or the bowl of a stand mixer. Whisk through to combine or, using your paddle attachment, stir through flour mixture until combined well.\n",
    "3. Add milk, vegetable oil, eggs, and vanilla to flour mixture and mix together on medium speed until well combined. Reduce speed and carefully add boiling water to the cake batter until well combined.\n",
    "4. Distribute cake batter evenly between the two prepared cake pans. Bake for 30-35 minutes, until a toothpick or cake tester inserted in the center of the chocolate cake comes out clean.\n",
    "5. Remove from the oven and allow to cool for about 10 minutes, remove from the pan and cool completely.\n",
    "6. Frost cake with Chocolate Buttercream Frosting"
   ]
  },
  {
   "cell_type": "markdown",
   "metadata": {},
   "source": [
    "https://addapinch.com/wp-content/uploads/2013/01/chocolate-cake-DSC_1770-599x600.jpg"
   ]
  }
 ],
 "metadata": {
  "kernelspec": {
   "display_name": "Python 3",
   "language": "python",
   "name": "python3"
  },
  "language_info": {
   "codemirror_mode": {
    "name": "ipython",
    "version": 3
   },
   "file_extension": ".py",
   "mimetype": "text/x-python",
   "name": "python",
   "nbconvert_exporter": "python",
   "pygments_lexer": "ipython3",
   "version": "3.6.1"
  }
 },
 "nbformat": 4,
 "nbformat_minor": 2
}
